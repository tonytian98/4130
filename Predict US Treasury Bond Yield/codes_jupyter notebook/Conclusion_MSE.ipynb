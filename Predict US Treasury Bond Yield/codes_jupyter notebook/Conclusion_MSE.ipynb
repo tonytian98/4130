{
  "nbformat": 4,
  "nbformat_minor": 0,
  "metadata": {
    "colab": {
      "name": "Conclusion: MSE.ipynb",
      "provenance": [],
      "collapsed_sections": []
    },
    "kernelspec": {
      "name": "python3",
      "display_name": "Python 3"
    },
    "accelerator": "GPU"
  },
  "cells": [
    {
      "cell_type": "code",
      "metadata": {
        "id": "L_BpmFvb9-jJ",
        "colab": {
          "base_uri": "https://localhost:8080/"
        },
        "outputId": "e7b9930a-901a-48ef-9215-432eef235084"
      },
      "source": [
        "from  google.colab import drive  \n",
        "drive.mount('/content/drive')\n",
        "%cd /content/drive/My\\ Drive/econ4130\n",
        "### save and load data using pickle\n",
        "import pickle\n",
        "def psave(dataframe, fname):\n",
        "    with open('{}.pkl'.format(fname),'wb') as pickle_file:\n",
        "        pickle.dump(dataframe,pickle_file)\n",
        "        \n",
        "def pload(fname):\n",
        "  \n",
        "  with open('{}.pkl'.format(fname),'rb') as pickle_file:\n",
        "      dataframe=pickle.load(pickle_file)\n",
        "      return dataframe\n",
        "\n",
        "import pandas as pd\n",
        "import numpy as np\n",
        "import matplotlib.pyplot as plt\n",
        "from sklearn.model_selection import TimeSeriesSplit"
      ],
      "execution_count": 62,
      "outputs": [
        {
          "output_type": "stream",
          "text": [
            "Drive already mounted at /content/drive; to attempt to forcibly remount, call drive.mount(\"/content/drive\", force_remount=True).\n",
            "/content/drive/My Drive/econ4130\n"
          ],
          "name": "stdout"
        }
      ]
    },
    {
      "cell_type": "code",
      "metadata": {
        "id": "XtBuxhQNJnnN"
      },
      "source": [
        "SVR=pload('SVR_MSE_3')"
      ],
      "execution_count": 63,
      "outputs": []
    },
    {
      "cell_type": "code",
      "metadata": {
        "id": "FwDeXCP3nJUP",
        "colab": {
          "base_uri": "https://localhost:8080/"
        },
        "outputId": "c0d6acd0-ed61-4ddb-ac33-06145a4ed5eb"
      },
      "source": [
        "SVRMSE=[SVR[0],SVR[1]]\r\n",
        "SVRMSE"
      ],
      "execution_count": 64,
      "outputs": [
        {
          "output_type": "execute_result",
          "data": {
            "text/plain": [
              "[{'10Y': 0.013622914409267634,\n",
              "  '2Y': 0.0858699963080512,\n",
              "  '30Y': 0.017673928822801537,\n",
              "  '3M': 0.16941836480071934,\n",
              "  '5Y': 0.01753546117470823},\n",
              " {'10Y': 0.007564890243061224,\n",
              "  '2Y': 0.007284976388097189,\n",
              "  '30Y': 0.032126585041795976,\n",
              "  '3M': 0.030937543768286505,\n",
              "  '5Y': 0.038247901971584855}]"
            ]
          },
          "metadata": {
            "tags": []
          },
          "execution_count": 64
        }
      ]
    },
    {
      "cell_type": "code",
      "metadata": {
        "id": "QtTnjapLrgfI"
      },
      "source": [
        "RIDMSE=[pload('mse_ridge'),pload('mse_ridge1')]"
      ],
      "execution_count": 65,
      "outputs": []
    },
    {
      "cell_type": "code",
      "metadata": {
        "colab": {
          "base_uri": "https://localhost:8080/"
        },
        "id": "9gnP-bhrsEqu",
        "outputId": "56668e8c-f421-4a10-a734-f53dceacf247"
      },
      "source": [
        "RIDMSE"
      ],
      "execution_count": 66,
      "outputs": [
        {
          "output_type": "execute_result",
          "data": {
            "text/plain": [
              "[{'10Y': 0.0058285116297086305,\n",
              "  '2Y': 0.0017580802892118036,\n",
              "  '30Y': 0.00228174334976581,\n",
              "  '3M': 0.33165868524373165,\n",
              "  '5Y': 0.008180019019296521},\n",
              " {'10Y': 0.002718999181111033,\n",
              "  '2Y': 0.000986212045771618,\n",
              "  '30Y': 0.002326838692075483,\n",
              "  '3M': 0.06454865665853082,\n",
              "  '5Y': 0.0033237610203890183}]"
            ]
          },
          "metadata": {
            "tags": []
          },
          "execution_count": 66
        }
      ]
    },
    {
      "cell_type": "code",
      "metadata": {
        "colab": {
          "base_uri": "https://localhost:8080/"
        },
        "id": "2U99iF-gsLds",
        "outputId": "6077a440-2f11-4991-cce3-04f3f883e6c5"
      },
      "source": [
        "OLSMSE=[pload('mse_ols'),pload('mse_ols1')]\r\n",
        "OLSMSE"
      ],
      "execution_count": 67,
      "outputs": [
        {
          "output_type": "execute_result",
          "data": {
            "text/plain": [
              "[{'10Y': 9.162832080059742,\n",
              "  '2Y': 39.02990053490515,\n",
              "  '30Y': 16.304229331901947,\n",
              "  '3M': 160.5092918775281,\n",
              "  '5Y': 13.917118012365478},\n",
              " {'10Y': 0.002735785201185165,\n",
              "  '2Y': 0.0012218192687407491,\n",
              "  '30Y': 0.002278823653787578,\n",
              "  '3M': 0.0007109964124008509,\n",
              "  '5Y': 0.0023416712832339762}]"
            ]
          },
          "metadata": {
            "tags": []
          },
          "execution_count": 67
        }
      ]
    },
    {
      "cell_type": "code",
      "metadata": {
        "colab": {
          "base_uri": "https://localhost:8080/"
        },
        "id": "JUoyvwRPsVrC",
        "outputId": "0dd5cb3f-93dd-46fe-8a64-bb0ab2cc60ec"
      },
      "source": [
        "LASMSE=[pload('mse_lasso'),pload('mse_lasso1')]\r\n",
        "LASMSE"
      ],
      "execution_count": 68,
      "outputs": [
        {
          "output_type": "execute_result",
          "data": {
            "text/plain": [
              "[{'10Y': 0.00258068356176075,\n",
              "  '2Y': 0.0009597082121994209,\n",
              "  '30Y': 0.002270013016495608,\n",
              "  '3M': 0.00042505771050153993,\n",
              "  '5Y': 0.0018060534497474057},\n",
              " {'10Y': 0.0020952998743272106,\n",
              "  '2Y': 0.0009783451423182204,\n",
              "  '30Y': 0.002433084371975197,\n",
              "  '3M': 0.0007636925739706884,\n",
              "  '5Y': 0.002059687407558677}]"
            ]
          },
          "metadata": {
            "tags": []
          },
          "execution_count": 68
        }
      ]
    },
    {
      "cell_type": "code",
      "metadata": {
        "id": "z8LeJpjJJQx9"
      },
      "source": [
        "lstmse=pload('LSTMERROR')\r\n",
        "lstmsmse=pload('LSTMFSERROR')\r\n",
        "lstm_={}\r\n",
        "lstm_['3M']=lstmse[0]\r\n",
        "lstm_['2Y']=lstmse[1]\r\n",
        "lstm_['5Y']=lstmse[2]\r\n",
        "lstm_['10Y']=lstmse[3]\r\n",
        "lstm_['30Y']=lstmse[4]\r\n",
        "lstm_s={}\r\n",
        "lstm_s['3M']=lstmsmse[0]\r\n",
        "lstm_s['2Y']=lstmsmse[1]\r\n",
        "lstm_s['5Y']=lstmsmse[2]\r\n",
        "lstm_s['10Y']=lstmsmse[3]\r\n",
        "lstm_s['30Y']=lstmsmse[4]"
      ],
      "execution_count": 69,
      "outputs": []
    },
    {
      "cell_type": "code",
      "metadata": {
        "colab": {
          "base_uri": "https://localhost:8080/"
        },
        "id": "tm9FiTweOrPm",
        "outputId": "ac786f78-e2fa-4b1c-afbe-88f5b9e12241"
      },
      "source": [
        "LSTMSE=[lstm_,lstm_s]\r\n",
        "LSTMSE"
      ],
      "execution_count": 70,
      "outputs": [
        {
          "output_type": "execute_result",
          "data": {
            "text/plain": [
              "[{'10Y': 0.008141990751028061,\n",
              "  '2Y': 0.013813541270792484,\n",
              "  '30Y': 0.010352153331041336,\n",
              "  '3M': 0.007204554975032806,\n",
              "  '5Y': 0.003949812613427639},\n",
              " {'10Y': 0.016486620530486107,\n",
              "  '2Y': 0.008657806552946568,\n",
              "  '30Y': 0.008716096170246601,\n",
              "  '3M': 0.003253217553719878,\n",
              "  '5Y': 0.07695072889328003}]"
            ]
          },
          "metadata": {
            "tags": []
          },
          "execution_count": 70
        }
      ]
    },
    {
      "cell_type": "code",
      "metadata": {
        "id": "27qG6T3NuqIU"
      },
      "source": [
        "MSE=[OLSMSE,LASMSE,RIDMSE,SVRMSE,LSTMSE]\r\n",
        "name=['OLS','LASSO','Ridge','SVR','LSTM']"
      ],
      "execution_count": 71,
      "outputs": []
    },
    {
      "cell_type": "code",
      "metadata": {
        "id": "2B2jXuUrsqVO"
      },
      "source": [
        "d={}\r\n",
        "d1={}\r\n",
        "xtick=[]\r\n",
        "for x in [0,1]:\r\n",
        "  a=[]\r\n",
        "  b=[-10,-10,-10,-10]\r\n",
        "  xtick=['','','','']\r\n",
        "  for time in ['3M','2Y','5Y','10Y','30Y']:\r\n",
        "    for i in range(5):\r\n",
        "      mse=MSE[i]\r\n",
        "      n=name[i]\r\n",
        "      b.append(mse[x][time])\r\n",
        "      a.append(mse[x][time])\r\n",
        "      xtick.append(n)\r\n",
        "      b.append(-10)\r\n",
        "      xtick.append('')\r\n",
        "    for i in range(4):\r\n",
        "      b.append(-10)\r\n",
        "      xtick.append('')\r\n",
        "  d[x]=b\r\n",
        "  d1[x]=a"
      ],
      "execution_count": 58,
      "outputs": []
    },
    {
      "cell_type": "code",
      "metadata": {
        "id": "xauI9YAJvLyI"
      },
      "source": [
        "xl=np.linspace(0,len(d[0])-1,len(d[0]))"
      ],
      "execution_count": 60,
      "outputs": []
    },
    {
      "cell_type": "code",
      "metadata": {
        "colab": {
          "base_uri": "https://localhost:8080/",
          "height": 214
        },
        "id": "dDhq3poQvnB2",
        "outputId": "850caf97-fb45-4ea8-a5da-eeea52ae6bb1"
      },
      "source": [
        "### FS means Feature selection\r\n",
        "fig= plt.figure(figsize=[15,2])\r\n",
        "plt.scatter(xl,d[0],marker='o',color='b',label='Before FS')\r\n",
        "plt.scatter(xl,d[1],marker='x',color='r',label ='After FS')\r\n",
        "plt.xticks(xl, xtick, rotation='vertical')\r\n",
        "axes = plt.gca()\r\n",
        "axes.set_ylim([0,0.1])\r\n",
        "axes.set_xticklabels(xtick)\r\n",
        "plt.legend()\r\n",
        "plt.title('MSE')"
      ],
      "execution_count": 61,
      "outputs": [
        {
          "output_type": "execute_result",
          "data": {
            "text/plain": [
              "Text(0.5, 1.0, 'MSE')"
            ]
          },
          "metadata": {
            "tags": []
          },
          "execution_count": 61
        },
        {
          "output_type": "display_data",
          "data": {
            "image/png": "[encoded data removed]",
            "text/plain": [
              "<Figure size 1080x144 with 1 Axes>"
            ]
          },
          "metadata": {
            "tags": [],
            "needs_background": "light"
          }
        }
      ]
    },
    {
      "cell_type": "code",
      "metadata": {
        "colab": {
          "base_uri": "https://localhost:8080/"
        },
        "id": "SiaZmAHkzhYd",
        "outputId": "1885cddb-e795-47a3-8a82-90231aba385f"
      },
      "source": [
        "###average mse for OLS ,LASSO,Ridge, SVR, LSTM, before FS\r\n",
        "mse=[]\r\n",
        "for x in MSE:\r\n",
        "  i=0\r\n",
        "  for t in  ['3M','2Y','5Y','10Y','30Y']:\r\n",
        "    i+=x[0][t]\r\n",
        "  mse.append(i)\r\n",
        "  print(i)"
      ],
      "execution_count": 75,
      "outputs": [
        {
          "output_type": "stream",
          "text": [
            "238.92337183676042\n",
            "0.008041515950704724\n",
            "0.3497070395317145\n",
            "0.3041206655155479\n",
            "0.04346205294132233\n"
          ],
          "name": "stdout"
        }
      ]
    },
    {
      "cell_type": "code",
      "metadata": {
        "colab": {
          "base_uri": "https://localhost:8080/"
        },
        "id": "TP7y91Lb0Mt_",
        "outputId": "f64a0bcb-7718-4092-c31c-93d22428fd55"
      },
      "source": [
        "###average mse for OLS ,LASSO,Ridge, SVR, LSTM, after FS\r\n",
        "mseb=[]\r\n",
        "for x in MSE:\r\n",
        "  i=0\r\n",
        "  for t in  ['3M','2Y','5Y','10Y','30Y']:\r\n",
        "    i+=x[1][t]\r\n",
        "  mseb.append(i)\r\n",
        "  print(i)"
      ],
      "execution_count": 76,
      "outputs": [
        {
          "output_type": "stream",
          "text": [
            "0.009289095819348319\n",
            "0.008330109370149994\n",
            "0.07390446759787797\n",
            "0.11616189741282576\n",
            "0.11406446970067918\n"
          ],
          "name": "stdout"
        }
      ]
    },
    {
      "cell_type": "code",
      "metadata": {
        "colab": {
          "base_uri": "https://localhost:8080/"
        },
        "id": "_dyDEzDx0ZQb",
        "outputId": "9a7109a0-1fe3-479b-ddd5-e679fa6136c4"
      },
      "source": [
        "###average mse for OLS ,LASSO,Ridge, SVR, LSTM on average\r\n",
        "for i in (np.array(mseb)+np.array(mse))/2:\r\n",
        "  print(i)"
      ],
      "execution_count": 79,
      "outputs": [
        {
          "output_type": "stream",
          "text": [
            "119.46633046628989\n",
            "0.00818581266042736\n",
            "0.21180575356479625\n",
            "0.2101412814641868\n",
            "0.07876326132100075\n"
          ],
          "name": "stdout"
        }
      ]
    },
    {
      "cell_type": "code",
      "metadata": {
        "id": "1KZiOThN1nx3"
      },
      "source": [
        ""
      ],
      "execution_count": null,
      "outputs": []
    }
  ]
}