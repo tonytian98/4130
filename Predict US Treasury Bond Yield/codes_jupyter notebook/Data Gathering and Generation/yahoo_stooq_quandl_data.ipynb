{
 "cells": [
  {
   "cell_type": "code",
   "execution_count": null,
   "metadata": {
    "colab": {
     "base_uri": "https://localhost:8080/"
    },
    "id": "f1lS8wW89EAL",
    "outputId": "c8e1b758-c5bd-47f5-d5da-99f503f416d6"
   },
   "outputs": [
    {
     "name": "stdout",
     "output_type": "stream",
     "text": [
      "Mounted at /content/drive\n",
      "/content/drive/My Drive/econ4130\n"
     ]
    }
   ],
   "source": [
    "from google.colab import drive\n",
    "drive.mount('/content/drive')\n",
    "%cd /content/drive/My\\ Drive/econ4130"
   ]
  },
  {
   "cell_type": "code",
   "execution_count": null,
   "metadata": {
    "id": "q4H0aXCX9FoF"
   },
   "outputs": [],
   "source": [
    "### save and load data using pickle\n",
    "import pickle\n",
    "def psave(dataframe, fname):\n",
    "    with open('{}.pkl'.format(fname),'wb') as pickle_file:\n",
    "        pickle.dump(dataframe,pickle_file)\n",
    "        \n",
    "def pload(fname):\n",
    "    with open('{}.pkl'.format(fname),'rb') as pickle_file:\n",
    "        dataframe=pickle.load(pickle_file)\n",
    "        return dataframe"
   ]
  },
  {
   "cell_type": "code",
   "execution_count": null,
   "metadata": {
    "id": "QWzRKZN2D5Qu"
   },
   "outputs": [],
   "source": [
    "import pandas as pd\n",
    "import numpy as np\n",
    "from pandas import DataFrame"
   ]
  },
  {
   "cell_type": "code",
   "execution_count": null,
   "metadata": {
    "colab": {
     "base_uri": "https://localhost:8080/"
    },
    "id": "lM3-Ka2kT5gR",
    "outputId": "ef298df6-4583-4862-cac0-f885d0c1b3db"
   },
   "outputs": [
    {
     "name": "stdout",
     "output_type": "stream",
     "text": [
      "                    ^DJI        ^GSPC  ...        ZB=F          YM=F\n",
      "Date                                   ...                          \n",
      "1999-01-04   9184.269531  1228.099976  ...         NaN           NaN\n",
      "1999-01-05   9311.190430  1244.780029  ...         NaN           NaN\n",
      "1999-01-06   9544.969727  1272.339966  ...         NaN           NaN\n",
      "1999-01-07   9537.759766  1269.729980  ...         NaN           NaN\n",
      "1999-01-08   9643.320312  1275.089966  ...         NaN           NaN\n",
      "...                  ...          ...  ...         ...           ...\n",
      "2020-12-18  30179.050781  3709.409912  ...  171.188004  30363.099609\n",
      "2020-12-21  30216.449219  3694.919922  ...  171.500000  30113.000000\n",
      "2020-12-22  30015.509766  3687.260010  ...  173.031006  29912.000000\n",
      "2020-12-23  30129.830078  3690.010010  ...  172.061996  30034.000000\n",
      "2020-12-24           NaN          NaN  ...         NaN           NaN\n",
      "\n",
      "[6461 rows x 17 columns]\n",
      "                   ^DJI         ^GSPC  ...      ZB=F      YM=F\n",
      "Date                                   ...                    \n",
      "1999-01-04   89410000.0  8.770000e+08  ...       NaN       NaN\n",
      "1999-01-05   79860000.0  7.750000e+08  ...       NaN       NaN\n",
      "1999-01-06  103340000.0  9.869000e+08  ...       NaN       NaN\n",
      "1999-01-07   88290000.0  8.630000e+08  ...       NaN       NaN\n",
      "1999-01-08  103250000.0  9.378000e+08  ...       NaN       NaN\n",
      "...                 ...           ...  ...       ...       ...\n",
      "2020-12-18  782070000.0  7.068340e+09  ...   12608.0  168183.0\n",
      "2020-12-21  437480000.0  4.732160e+09  ...  397352.0  278388.0\n",
      "2020-12-22  388810000.0  4.023940e+09  ...  225565.0  153134.0\n",
      "2020-12-23  274050000.0  3.772630e+09  ...  225565.0  153134.0\n",
      "2020-12-24          NaN           NaN  ...       NaN       NaN\n",
      "\n",
      "[6461 rows x 17 columns]\n"
     ]
    }
   ],
   "source": [
    "import pandas_datareader.data as web\n",
    "###Yahoo finance data\n",
    "## Dow Jones Industrial Average,S&P 500,NASDAQ Composite,Russell 2000,crude oil futures, gold futures, Wilshire 5000 Total Market Inde,Russell 3000,HANG SENG INDEX...\n",
    "## USD/JPY,USD/GBP,USD/EUR,USD/CHF,USD/CNY,US Dollar/USDX,U.S. Treasury Bond Futures,Dec-(Bond futures)\n",
    "tickers_yahoo = ['^DJI','^GSPC','^IXIC','^RUT','CL=F','GC=F','^W5000','^RUA','^HSI'\n",
    ",'JPY=X','GBP=X','EUR=X','CHF=X','CNY=X','DX-Y.NYB','ZB=F','YM=F']\n",
    "\n",
    "start_date = '1999-01-02'\n",
    "##end_data: up to the latest\n",
    "all_data={\n",
    "    ticker:web.get_data_yahoo(ticker, start_date)for ticker in tickers_yahoo\n",
    "}\n",
    "price = pd.DataFrame({\n",
    "    ticker: data['Adj Close'] for ticker, data in all_data.items()\n",
    "})\n",
    "volume = pd.DataFrame({\n",
    "    ticker: data['Volume'] for ticker, data in all_data.items()\n",
    "})\n",
    "\n",
    "print(price)\n",
    "print(volume)\n",
    "psave(price,'Data_yahoo2')"
   ]
  },
  {
   "cell_type": "code",
   "execution_count": null,
   "metadata": {
    "colab": {
     "base_uri": "https://localhost:8080/"
    },
    "id": "7gO2-YN6nMJt",
    "outputId": "81df1174-958d-4f2d-c79c-1eecb6eb83aa"
   },
   "outputs": [
    {
     "name": "stdout",
     "output_type": "stream",
     "text": [
      "             FY.F    FX.F     ^TPX     X.F     ES.F      ^CRY\n",
      "Date                                                         \n",
      "1999-01-04    NaN  3535.0      NaN  5930.0  1253.50  126.9200\n",
      "1999-01-05    NaN  3585.0      NaN  5977.0  1253.50  126.0300\n",
      "1999-01-06    NaN  3645.0      NaN  6195.0  1281.75  128.9600\n",
      "1999-01-07    NaN  3595.0      NaN  6150.0  1278.00  129.3200\n",
      "1999-01-08    NaN  3615.0      NaN  6175.0  1288.00  129.7200\n",
      "...           ...     ...      ...     ...      ...       ...\n",
      "2020-12-18  394.0  3527.0  1793.24  6473.5  3706.25  166.4534\n",
      "2020-12-21  384.7  3431.0  1789.05  6371.0  3685.75  164.8259\n",
      "2020-12-22  389.5  3481.0  1761.12  6406.0  3677.25  163.6122\n",
      "2020-12-23  393.5  3527.0  1765.21  6445.5  3681.50  165.2841\n",
      "2020-12-24    NaN     NaN  1774.27     NaN      NaN       NaN\n",
      "\n",
      "[5710 rows x 6 columns]\n"
     ]
    }
   ],
   "source": [
    "### stooq data\n",
    "import pandas_datareader.data as web\n",
    "#TOPIX Index ('^TPX')\n",
    "#Euro Stoxx 50('FX.F')\n",
    "#Stoxx Europe 600('FY.F')\n",
    "#FTSE 100 - Euronext('X.F')\n",
    "#S&P 500 E-Mini - CME (ES.F)\n",
    "#^CRY CRB index\n",
    "\n",
    "\n",
    "tickers = ['FY.F','FX.F','^TPX','X.F','ES.F','^CRY']\n",
    "start_date = '1999-01-01'\n",
    "#end_date = '2020-09-30'\n",
    "\n",
    "all_data={\n",
    "    ticker:web.DataReader(ticker,'stooq',start_date)for ticker in tickers\n",
    "}\n",
    "price_stooq = pd.DataFrame({\n",
    "    ticker: data['Close'] for ticker, data in all_data.items()\n",
    "})\n",
    "\n",
    "print(price_stooq)\n",
    "\n",
    "\n",
    "\n",
    "\n",
    "\n",
    "psave(price_stooq,'Data_stooq2')"
   ]
  },
  {
   "cell_type": "code",
   "execution_count": null,
   "metadata": {
    "colab": {
     "base_uri": "https://localhost:8080/"
    },
    "id": "w2DA6-Stnueh",
    "outputId": "908897a7-b9be-4131-c62f-cfb2e419d2ca"
   },
   "outputs": [
    {
     "name": "stdout",
     "output_type": "stream",
     "text": [
      "Collecting quandl\n",
      "  Downloading https://files.pythonhosted.org/packages/1f/37/2d908ea6de71a46f4bb2faf5ff0032cefe56117b715c7f22d1d0d2e7527d/Quandl-3.5.3-py2.py3-none-any.whl\n",
      "Collecting inflection>=0.3.1\n",
      "  Downloading https://files.pythonhosted.org/packages/59/91/aa6bde563e0085a02a435aa99b49ef75b0a4b062635e606dab23ce18d720/inflection-0.5.1-py2.py3-none-any.whl\n",
      "Requirement already satisfied: six in /usr/local/lib/python3.6/dist-packages (from quandl) (1.15.0)\n",
      "Requirement already satisfied: numpy>=1.8 in /usr/local/lib/python3.6/dist-packages (from quandl) (1.19.4)\n",
      "Requirement already satisfied: more-itertools in /usr/local/lib/python3.6/dist-packages (from quandl) (8.6.0)\n",
      "Requirement already satisfied: requests>=2.7.0 in /usr/local/lib/python3.6/dist-packages (from quandl) (2.23.0)\n",
      "Requirement already satisfied: pandas>=0.14 in /usr/local/lib/python3.6/dist-packages (from quandl) (1.1.5)\n",
      "Requirement already satisfied: python-dateutil in /usr/local/lib/python3.6/dist-packages (from quandl) (2.8.1)\n",
      "Requirement already satisfied: chardet<4,>=3.0.2 in /usr/local/lib/python3.6/dist-packages (from requests>=2.7.0->quandl) (3.0.4)\n",
      "Requirement already satisfied: urllib3!=1.25.0,!=1.25.1,<1.26,>=1.21.1 in /usr/local/lib/python3.6/dist-packages (from requests>=2.7.0->quandl) (1.24.3)\n",
      "Requirement already satisfied: idna<3,>=2.5 in /usr/local/lib/python3.6/dist-packages (from requests>=2.7.0->quandl) (2.10)\n",
      "Requirement already satisfied: certifi>=2017.4.17 in /usr/local/lib/python3.6/dist-packages (from requests>=2.7.0->quandl) (2020.12.5)\n",
      "Requirement already satisfied: pytz>=2017.2 in /usr/local/lib/python3.6/dist-packages (from pandas>=0.14->quandl) (2018.9)\n",
      "Installing collected packages: inflection, quandl\n",
      "Successfully installed inflection-0.5.1 quandl-3.5.3\n",
      "             ECB2Y   ECB3Y   ECB5Y   ECB7Y  ECB10Y\n",
      "Date                                              \n",
      "1999-01-31  2.9967  3.0881  3.3010  3.6372  3.8220\n",
      "1999-02-28  3.0502  3.1942  3.4316  3.7775  3.9742\n",
      "1999-03-31  3.0843  3.2461  3.5291  3.9190  4.1810\n",
      "1999-04-30  2.8256  3.0018  3.3037  3.6992  4.0407\n",
      "1999-05-31  2.8001  3.0017  3.3673  3.8097  4.2049\n",
      "...            ...     ...     ...     ...     ...\n",
      "2006-12-31  3.7922  3.7935  3.8295  3.8412  3.9026\n",
      "2007-01-31  3.9335  3.9612  4.0152  4.0226  4.1028\n",
      "2007-02-28  3.9522  3.9783  4.0238  4.0674  4.1175\n",
      "2007-03-31  3.9393  3.9365  3.9464  3.9615  4.0227\n",
      "2007-04-30  4.1072  4.1233  4.1512  4.1977  4.2459\n",
      "\n",
      "[100 rows x 5 columns]\n",
      "            JGB1Y  JGB2Y  JGB3Y  JGB4Y  ...  JGB20Y  JGB25Y  JGB30Y  JGB40Y\n",
      "Date                                    ...                                \n",
      "1999-01-04  0.567  0.790  1.067  1.300  ...   2.684     NaN     NaN     NaN\n",
      "1999-01-05  0.548  0.758  1.025  1.255  ...   2.643     NaN     NaN     NaN\n",
      "1999-01-06  0.519  0.716  0.951  1.176  ...   2.569     NaN     NaN     NaN\n",
      "1999-01-07  0.469  0.633  0.817  1.022  ...   2.410     NaN     NaN     NaN\n",
      "1999-01-08  0.516  0.708  0.925  1.151  ...   2.515     NaN     NaN     NaN\n",
      "...           ...    ...    ...    ...  ...     ...     ...     ...     ...\n",
      "2020-12-16 -0.124 -0.134 -0.139 -0.143  ...   0.393   0.502   0.628   0.661\n",
      "2020-12-17 -0.125 -0.134 -0.139 -0.144  ...   0.387   0.501   0.626   0.658\n",
      "2020-12-18 -0.126 -0.139 -0.142 -0.154  ...   0.387   0.502   0.624   0.654\n",
      "2020-12-21 -0.124 -0.132 -0.140 -0.144  ...   0.392   0.513   0.638   0.662\n",
      "2020-12-22 -0.124 -0.137 -0.140 -0.144  ...   0.386   0.505   0.628   0.653\n",
      "\n",
      "[5388 rows x 15 columns]\n",
      "             BOE5Y  BOE10Y  BOE20Y\n",
      "Date                              \n",
      "2020-08-03 -0.1263  0.1434  0.5906\n",
      "2020-08-04 -0.1349  0.1239  0.5666\n",
      "2020-08-05 -0.1044  0.2062  0.6152\n",
      "2020-08-06 -0.0874  0.1723  0.5685\n",
      "2020-08-07 -0.0594  0.2292  0.6196\n",
      "...            ...     ...     ...\n",
      "2020-12-15 -0.0255  0.3141  0.7708\n",
      "2020-12-16  0.0134  0.3412  0.7894\n",
      "2020-12-17 -0.0040  0.3343  0.7714\n",
      "2020-12-18 -0.0239  0.3225  0.7267\n",
      "2020-12-21 -0.0674  0.2688  0.6946\n",
      "\n",
      "[100 rows x 3 columns]\n",
      "             PMI\n",
      "Date            \n",
      "1999-01-01  50.6\n",
      "1999-02-01  51.7\n",
      "1999-03-01  52.4\n",
      "1999-04-01  52.3\n",
      "1999-05-01  54.3\n",
      "...          ...\n",
      "2020-07-01  54.2\n",
      "2020-08-01  56.0\n",
      "2020-09-01  55.4\n",
      "2020-10-01  59.3\n",
      "2020-11-01  57.5\n",
      "\n",
      "[263 rows x 1 columns]\n",
      "            ECBinterest\n",
      "Date                   \n",
      "1999-01-31          3.0\n",
      "1999-02-28          3.0\n",
      "1999-03-31          3.0\n",
      "1999-04-30          2.5\n",
      "1999-05-31          2.5\n",
      "...                 ...\n",
      "2020-07-31          0.0\n",
      "2020-08-31          0.0\n",
      "2020-09-30          0.0\n",
      "2020-10-31          0.0\n",
      "2020-11-30          0.0\n",
      "\n",
      "[263 rows x 1 columns]\n"
     ]
    }
   ],
   "source": [
    "#Quandle data\n",
    "!pip install quandl\n",
    "import quandl\n",
    "quandl.ApiConfig.api_key = \"tAayogy-tMopj-zses3x\"\n",
    "\n",
    "tickers = ['ECB/FM_M_U2_EUR_4F_BB_U2_2Y_YLD',\n",
    "'ECB/FM_M_U2_EUR_4F_BB_U2_3Y_YLD',\n",
    "'ECB/FM_M_U2_EUR_4F_BB_U2_5Y_YLD',\n",
    "'ECB/FM_M_U2_EUR_4F_BB_U2_7Y_YLD',\n",
    "'ECB/FM_M_U2_EUR_4F_BB_U2_10Y_YLD',\n",
    "'MOFJ/INTEREST_RATE_JAPAN',\n",
    "'BOE/IUDSNPY',\n",
    "'BOE/IUDMNPY',\n",
    "'BOE/IUDLNPY',\n",
    "'ISM/MAN_PMI'\n",
    "'BUNDESBANK/BBK01_SU0202']\n",
    "\n",
    "\n",
    "\n",
    "df1 = quandl.get('ECB/FM_M_U2_EUR_4F_BB_U2_2Y_YLD',start_date= '1999-01-01')\n",
    "df1.columns = ['ECB2Y']\n",
    "df2 = quandl.get('ECB/FM_M_U2_EUR_4F_BB_U2_3Y_YLD',start_date= '1999-01-01')\n",
    "df2.columns = ['ECB3Y']\n",
    "df3 = quandl.get('ECB/FM_M_U2_EUR_4F_BB_U2_5Y_YLD',start_date= '1999-01-01')\n",
    "df3.columns = ['ECB5Y']\n",
    "df4 = quandl.get('ECB/FM_M_U2_EUR_4F_BB_U2_7Y_YLD',start_date= '1999-01-01')\n",
    "df4.columns = ['ECB7Y']\n",
    "df5 = quandl.get('ECB/FM_M_U2_EUR_4F_BB_U2_10Y_YLD',start_date= '1999-01-01')\n",
    "df5.columns = ['ECB10Y']\n",
    "df_ECB = pd.concat([df1,df2,df3,df4,df5],axis=1,sort=False)\n",
    "print(df_ECB.head(100))\n",
    "\n",
    "psave(df_ECB,'ECBbond')\n",
    "\n",
    "df_JGB = quandl.get('MOFJ/INTEREST_RATE_JAPAN', start_date= '1999-01-01')\n",
    "df_JGB = df_JGB.rename(columns={'1Y':'JGB1Y','2Y':'JGB2Y','3Y':'JGB3Y','4Y':'JGB4Y','5Y':'JGB5Y','6Y':'JGB6Y','7Y':'JGB7Y','8Y':'JGB8Y','9Y':'JGB9Y','10Y':'JGB10Y','15Y':'JGB15Y','20Y':'JGB20Y','25Y':'JGB25Y','30Y':'JGB30Y','35Y':'JGB35Y','40Y':'JGB40Y'})\n",
    "print(df_JGB)\n",
    "psave(df_JGB,'JGBbond')\n",
    "\n",
    "df6 = quandl.get('BOE/IUDSNPY',start_date= '1999-01-01')\n",
    "df6.columns = ['BOE5Y']\n",
    "df7 = quandl.get('BOE/IUDMNPY',start_date= '1999-01-01')\n",
    "df7.columns = ['BOE10Y']\n",
    "df8 = quandl.get('BOE/IUDLNPY',start_date= '1999-01-01')\n",
    "df8.columns = ['BOE20Y']\n",
    "df_BOE = pd.concat([df6,df7,df8],axis=1,sort=False)\n",
    "\n",
    "print(df_BOE.tail(100))\n",
    "psave(df_BOE,'BOEbond')\n",
    "\n",
    "PMI = quandl.get('ISM/MAN_PMI',start_date= '1999-01-01')\n",
    "PMI.columns = ['PMI']\n",
    "print(PMI)\n",
    "psave(PMI,'PMI')\n",
    "ECBinte_ = quandl.get('BUNDESBANK/BBK01_SU0202',start_date = '1999-01-01')\n",
    "ECBinte_.columns = ['ECBinterest']\n",
    "print(ECBinte_)\n",
    "\n",
    "psave(ECBinte_,'ECBinterest')\n",
    "\n",
    "\n"
   ]
  }
 ],
 "metadata": {
  "colab": {
   "collapsed_sections": [],
   "name": "yahoo stooq quandl data.ipynb",
   "provenance": []
  },
  "kernelspec": {
   "display_name": "Python 3",
   "language": "python",
   "name": "python3"
  },
  "language_info": {
   "codemirror_mode": {
    "name": "ipython",
    "version": 3
   },
   "file_extension": ".py",
   "mimetype": "text/x-python",
   "name": "python",
   "nbconvert_exporter": "python",
   "pygments_lexer": "ipython3",
   "version": "3.6.9"
  }
 },
 "nbformat": 4,
 "nbformat_minor": 1
}
